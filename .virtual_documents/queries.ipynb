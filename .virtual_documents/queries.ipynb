














#import Numpay
import numpy as np
#import Pandas
import pandas as pd
#import Matplotlib
import matplotlib.pyplot as plt
#import seaborn
import seaborn as sns





# Load the dataset
df = pd.read_csv('global_traffic_accidents.csv')





# To print first five rows
df.head()


# To print last five rows
df.tail()


#To print SIZE
df.size


# Column types, no.of columns, index range, memory usage and nulls
df.info()


# Statistical summary for numeric columns
# Like count, mean, max, std, etc.,
df.describe()


# Rows and columns
#it give no.of rows and columns in the format (rows,columns)
df.shape


# Column names
df.columns


#To check how many null values in each column
df.isnull().sum()


#To remove duplicate rows
df.drop_duplicates()


#To drop null 
df.dropna()


#To find Dtype of a single column
df['Latitude'].dtype


#To find Dtype of a Single column
#'o' means object
df['Cause'].dtype


#To check data types of all columns
df.dtypes


#to print count of each unique value in particular column and the datatype of the column
df['Casualties'].value_counts()


#to count no.of of values in column wise
df.count()





#To convert column datatype from object to datetime of Date column
df['Date'] = pd.to_datetime(df['Date'], errors='coerce')
df['Date'].dtype


# Drop rows with missing location
df.dropna(subset=['Location'], inplace=True)
df


#Standardize Text (Optional)
#trip whitespace, lowercasing, fix typos
df['Location'] = df['Location'].str.strip().str.lower()
df


# Fill missing 'Weather Condition' with 'Unknown'
df.fillna({'Weather Condition':'Unknown'}, inplace=True)
df


#To rename the column
df.rename(columns={'Casualties': 'No.of Deaths'}, inplace=True)
df





# Accidents with Weather Condition = 'Snow'
df[df['Weather Condition'] == 'Snow']


# No.of Deaths > 2
df[df['No.of Deaths'] > 2]


# Multiple conditions (AND)
df[(df['Vehicles Involved'] == 4)&
(df['Weather Condition'] == 'Rain')&
(df['Date'] >= '2024-06-09')&
(df['Time'] <= '08:30' )]


#count the no.of results
df[(df['Vehicles Involved'] == 4)&
(df['Weather Condition'] == 'Rain')&
(df['Date'] >= '2024-06-09')&
(df['Time'] <= '08:30' )].shape[0]





# Count of accidents per location by groupby()
df.groupby('Location').size()


# Or using value_counts()
df['Weather Condition'].value_counts()





# Sort by Vehicles Involved in ascending order
df.sort_values(by='Vehicles Involved')


# Sort by speed in descending order
df.sort_values(by='No.of Deaths', ascending=False)



